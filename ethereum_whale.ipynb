{
 "cells": [
  {
   "cell_type": "markdown",
   "id": "a98b1af8-8818-4d90-b1a4-14dab870aca1",
   "metadata": {},
   "source": [
    "### 고래 지갑 트랜잭션 수집 및 분석"
   ]
  },
  {
   "cell_type": "code",
   "execution_count": 4,
   "id": "4a176171-6131-4654-ac70-fc24d0d9db30",
   "metadata": {},
   "outputs": [],
   "source": [
    "from web3 import Web3\n",
    "import pandas as pd\n",
    "import json\n",
    "import requests\n",
    "import psycopg2 as pg\n",
    "import numpy as np\n",
    "from collections import OrderedDict"
   ]
  },
  {
   "cell_type": "markdown",
   "id": "28dec7fa-5159-4bed-b4dd-d831e5f5ddc3",
   "metadata": {},
   "source": [
    "#### API 세팅"
   ]
  },
  {
   "cell_type": "code",
   "execution_count": 5,
   "id": "15021a04-66a8-42ce-a50b-7599bfa5a19c",
   "metadata": {},
   "outputs": [],
   "source": [
    "etherscan_apikey = 'ETHERSCANKEY'\n",
    "infura_endpoints = 'https://mainnet.infura.io/v3/INFURAKEY'"
   ]
  },
  {
   "cell_type": "code",
   "execution_count": 6,
   "id": "c33e642e-c51c-4539-ac6e-7d3915a868e7",
   "metadata": {},
   "outputs": [
    {
     "data": {
      "text/plain": [
       "True"
      ]
     },
     "execution_count": 6,
     "metadata": {},
     "output_type": "execute_result"
    }
   ],
   "source": [
    "w3 = Web3(Web3.HTTPProvider(infura_endpoints))\n",
    "w3.isConnected()"
   ]
  },
  {
   "cell_type": "markdown",
   "id": "3837a165-eb51-476e-b02c-1752f304d498",
   "metadata": {},
   "source": [
    "#### 수집할 블록 범위 설정"
   ]
  },
  {
   "cell_type": "code",
   "execution_count": 60,
   "id": "04ea8475-81c0-4a3b-a9b0-fd0239756a57",
   "metadata": {},
   "outputs": [
    {
     "name": "stdout",
     "output_type": "stream",
     "text": [
      "latest block number:  14477482\n"
     ]
    }
   ],
   "source": [
    "latest = w3.eth.get_block('latest')['number']\n",
    "print('latest block number: ', latest)"
   ]
  },
  {
   "cell_type": "code",
   "execution_count": 61,
   "id": "5d0ebdcd-b0f8-4ab5-a057-c9c24eb567cb",
   "metadata": {},
   "outputs": [],
   "source": [
    "block_count = 50\n",
    "block_range = range(latest - (block_count+1), latest)"
   ]
  },
  {
   "cell_type": "code",
   "execution_count": 62,
   "id": "5c37e0fc-d12a-4dc4-8dac-6d3b16df05f4",
   "metadata": {},
   "outputs": [],
   "source": [
    "block_data = pd.DataFrame(columns=['block_from', 'block_to'])"
   ]
  },
  {
   "cell_type": "code",
   "execution_count": 63,
   "id": "58135a91-a51d-46f1-a883-c9bc3b1a5025",
   "metadata": {},
   "outputs": [
    {
     "name": "stdout",
     "output_type": "stream",
     "text": [
      "50\n"
     ]
    },
    {
     "data": {
      "text/html": [
       "<div>\n",
       "<style scoped>\n",
       "    .dataframe tbody tr th:only-of-type {\n",
       "        vertical-align: middle;\n",
       "    }\n",
       "\n",
       "    .dataframe tbody tr th {\n",
       "        vertical-align: top;\n",
       "    }\n",
       "\n",
       "    .dataframe thead th {\n",
       "        text-align: right;\n",
       "    }\n",
       "</style>\n",
       "<table border=\"1\" class=\"dataframe\">\n",
       "  <thead>\n",
       "    <tr style=\"text-align: right;\">\n",
       "      <th></th>\n",
       "      <th>block_from</th>\n",
       "      <th>block_to</th>\n",
       "    </tr>\n",
       "  </thead>\n",
       "  <tbody>\n",
       "    <tr>\n",
       "      <th>0</th>\n",
       "      <td>14477431</td>\n",
       "      <td>14477432</td>\n",
       "    </tr>\n",
       "    <tr>\n",
       "      <th>1</th>\n",
       "      <td>14477432</td>\n",
       "      <td>14477433</td>\n",
       "    </tr>\n",
       "    <tr>\n",
       "      <th>2</th>\n",
       "      <td>14477433</td>\n",
       "      <td>14477434</td>\n",
       "    </tr>\n",
       "    <tr>\n",
       "      <th>3</th>\n",
       "      <td>14477434</td>\n",
       "      <td>14477435</td>\n",
       "    </tr>\n",
       "    <tr>\n",
       "      <th>4</th>\n",
       "      <td>14477435</td>\n",
       "      <td>14477436</td>\n",
       "    </tr>\n",
       "  </tbody>\n",
       "</table>\n",
       "</div>"
      ],
      "text/plain": [
       "  block_from  block_to\n",
       "0   14477431  14477432\n",
       "1   14477432  14477433\n",
       "2   14477433  14477434\n",
       "3   14477434  14477435\n",
       "4   14477435  14477436"
      ]
     },
     "execution_count": 63,
     "metadata": {},
     "output_type": "execute_result"
    }
   ],
   "source": [
    "for i in block_range:\n",
    "    block_data = block_data.append({'block_from': i,\n",
    "                                    'block_to': i+1}, ignore_index=True)\n",
    "block_data = block_data.iloc[:-1]\n",
    "print(len(block_data))\n",
    "block_data.iloc[:5]"
   ]
  },
  {
   "cell_type": "markdown",
   "id": "4504b25d-ed99-46fa-9793-55212939158c",
   "metadata": {},
   "source": [
    "#### 트랜잭션 종류 수집 함수"
   ]
  },
  {
   "cell_type": "code",
   "execution_count": 71,
   "id": "294ecc5d-1cc8-4c5b-8418-83b221f27b70",
   "metadata": {},
   "outputs": [],
   "source": [
    "def get_tx_obj(tx, etherscan_apikey):\n",
    "    try: \n",
    "        abi_endpoint = f\"https://api.etherscan.io/api?module=contract&action=getabi&address={tx['to']}&apikey={etherscan_apikey}\"\n",
    "        abi = json.loads(requests.get(abi_endpoint).text)\n",
    "        contract = w3.eth.contract(address=tx[\"to\"], abi=abi[\"result\"])\n",
    "        func_obj, _ = contract.decode_function_input(tx[\"input\"])\n",
    "        obj = func_obj\n",
    "    except ValueError:\n",
    "        obj = 'undefined'\n",
    "    return obj"
   ]
  },
  {
   "cell_type": "code",
   "execution_count": 7,
   "id": "2e7fa20f-8c6a-4176-9c5c-907bbc0d4ef0",
   "metadata": {},
   "outputs": [],
   "source": [
    "# 고래 지갑 잔고 threshold\n",
    "whale_threshold = 500"
   ]
  },
  {
   "cell_type": "code",
   "execution_count": 8,
   "id": "dd10ed9e-c305-4543-982f-aed8e290ad1e",
   "metadata": {},
   "outputs": [
    {
     "data": {
      "text/html": [
       "<div>\n",
       "<style scoped>\n",
       "    .dataframe tbody tr th:only-of-type {\n",
       "        vertical-align: middle;\n",
       "    }\n",
       "\n",
       "    .dataframe tbody tr th {\n",
       "        vertical-align: top;\n",
       "    }\n",
       "\n",
       "    .dataframe thead th {\n",
       "        text-align: right;\n",
       "    }\n",
       "</style>\n",
       "<table border=\"1\" class=\"dataframe\">\n",
       "  <thead>\n",
       "    <tr style=\"text-align: right;\">\n",
       "      <th></th>\n",
       "      <th>block_number</th>\n",
       "      <th>tx_hash</th>\n",
       "      <th>tx_obj</th>\n",
       "      <th>source</th>\n",
       "      <th>source_label</th>\n",
       "      <th>target</th>\n",
       "      <th>target_label</th>\n",
       "      <th>amount</th>\n",
       "      <th>gasfees</th>\n",
       "    </tr>\n",
       "  </thead>\n",
       "  <tbody>\n",
       "  </tbody>\n",
       "</table>\n",
       "</div>"
      ],
      "text/plain": [
       "Empty DataFrame\n",
       "Columns: [block_number, tx_hash, tx_obj, source, source_label, target, target_label, amount, gasfees]\n",
       "Index: []"
      ]
     },
     "execution_count": 8,
     "metadata": {},
     "output_type": "execute_result"
    }
   ],
   "source": [
    "data = pd.DataFrame(columns=['block_number', 'tx_hash', 'tx_obj', 'source', 'source_label', 'target', 'target_label', 'amount', 'gasfees'])\n",
    "data"
   ]
  },
  {
   "cell_type": "markdown",
   "id": "7e5c8b03-5bb0-4efa-bf60-7a531b14a60f",
   "metadata": {},
   "source": [
    "#### 데이터 수집"
   ]
  },
  {
   "cell_type": "code",
   "execution_count": 74,
   "id": "19490fc4-2828-4f0d-a806-189b8ecb685c",
   "metadata": {},
   "outputs": [
    {
     "name": "stdout",
     "output_type": "stream",
     "text": [
      "Block 14477431 has 274 transactions / last data length: 0\n",
      "Block 14477432 has 306 transactions / last data length: 31\n",
      "Block 14477433 has 271 transactions / last data length: 92\n",
      "Block 14477434 has 297 transactions / last data length: 189\n",
      "Block 14477435 has 18 transactions / last data length: 284\n",
      "Block 14477436 has 14 transactions / last data length: 286\n",
      "Block 14477437 has 263 transactions / last data length: 287\n",
      "Block 14477438 has 409 transactions / last data length: 327\n",
      "Block 14477439 has 351 transactions / last data length: 443\n",
      "Block 14477440 has 49 transactions / last data length: 518\n",
      "Block 14477441 has 296 transactions / last data length: 530\n",
      "Block 14477442 has 131 transactions / last data length: 597\n",
      "Block 14477443 has 468 transactions / last data length: 632\n",
      "Block 14477444 has 467 transactions / last data length: 796\n",
      "Block 14477445 has 288 transactions / last data length: 893\n",
      "Block 14477446 has 31 transactions / last data length: 920\n",
      "Block 14477447 has 51 transactions / last data length: 931\n",
      "Block 14477448 has 390 transactions / last data length: 950\n",
      "Block 14477449 has 215 transactions / last data length: 1027\n",
      "Block 14477450 has 70 transactions / last data length: 1083\n",
      "Block 14477451 has 74 transactions / last data length: 1089\n",
      "Block 14477452 has 106 transactions / last data length: 1097\n",
      "Block 14477453 has 450 transactions / last data length: 1121\n",
      "Block 14477454 has 103 transactions / last data length: 1193\n",
      "Block 14477455 has 197 transactions / last data length: 1251\n",
      "Block 14477456 has 133 transactions / last data length: 1275\n",
      "Block 14477457 has 212 transactions / last data length: 1314\n",
      "Block 14477458 has 23 transactions / last data length: 1345\n",
      "Block 14477459 has 118 transactions / last data length: 1348\n",
      "Block 14477460 has 256 transactions / last data length: 1362\n",
      "Block 14477461 has 125 transactions / last data length: 1423\n",
      "Block 14477462 has 444 transactions / last data length: 1445\n",
      "Block 14477463 has 66 transactions / last data length: 1532\n",
      "Block 14477464 has 269 transactions / last data length: 1537\n",
      "Block 14477465 has 141 transactions / last data length: 1603\n",
      "Block 14477466 has 268 transactions / last data length: 1621\n",
      "Block 14477467 has 126 transactions / last data length: 1686\n",
      "Block 14477468 has 184 transactions / last data length: 1715\n",
      "Block 14477469 has 76 transactions / last data length: 1777\n",
      "Block 14477470 has 17 transactions / last data length: 1785\n",
      "Block 14477471 has 142 transactions / last data length: 1792\n",
      "Block 14477472 has 0 transactions / last data length: 1843\n",
      "Block 14477473 has 478 transactions / last data length: 1843\n",
      "Block 14477474 has 255 transactions / last data length: 1945\n",
      "Block 14477475 has 171 transactions / last data length: 1990\n",
      "Block 14477476 has 19 transactions / last data length: 2050\n",
      "Block 14477477 has 328 transactions / last data length: 2054\n",
      "Block 14477478 has 132 transactions / last data length: 2114\n",
      "TypeError occurred at tx 0x8c6784ae51a8ab6cdfc41a0088f900a9dda69333e6ca339c797de01891406160\n",
      "Block 14477479 has 223 transactions / last data length: 2128\n",
      "Block 14477480 has 206 transactions / last data length: 2192\n",
      "Block 14477481 has 88 transactions / last data length: 2221\n"
     ]
    },
    {
     "data": {
      "text/html": [
       "<div>\n",
       "<style scoped>\n",
       "    .dataframe tbody tr th:only-of-type {\n",
       "        vertical-align: middle;\n",
       "    }\n",
       "\n",
       "    .dataframe tbody tr th {\n",
       "        vertical-align: top;\n",
       "    }\n",
       "\n",
       "    .dataframe thead th {\n",
       "        text-align: right;\n",
       "    }\n",
       "</style>\n",
       "<table border=\"1\" class=\"dataframe\">\n",
       "  <thead>\n",
       "    <tr style=\"text-align: right;\">\n",
       "      <th></th>\n",
       "      <th>block_number</th>\n",
       "      <th>tx_hash</th>\n",
       "      <th>tx_obj</th>\n",
       "      <th>source</th>\n",
       "      <th>source_label</th>\n",
       "      <th>target</th>\n",
       "      <th>target_label</th>\n",
       "      <th>amount</th>\n",
       "      <th>gasfees</th>\n",
       "    </tr>\n",
       "  </thead>\n",
       "  <tbody>\n",
       "    <tr>\n",
       "      <th>0</th>\n",
       "      <td>14477431</td>\n",
       "      <td>0xf8ac3f1d1ba7837ac01fd69959a84e14b5520389ce21...</td>\n",
       "      <td>undefined</td>\n",
       "      <td>0xB10A699f0e9D27273D6D7BdbB7FD44346C7D7076</td>\n",
       "      <td>normal</td>\n",
       "      <td>0x0000000000007F150Bd6f54c40A34d7C3d5e9f56</td>\n",
       "      <td>whale</td>\n",
       "      <td>3.290000e-16</td>\n",
       "      <td>4.723708e-08</td>\n",
       "    </tr>\n",
       "    <tr>\n",
       "      <th>1</th>\n",
       "      <td>14477431</td>\n",
       "      <td>0x8d76216a4c178d1bc880bf9ff77d46d4e9b4efa63ed8...</td>\n",
       "      <td>undefined</td>\n",
       "      <td>0xE6d45E57f4740a627c68BB41359567680eFc79df</td>\n",
       "      <td>normal</td>\n",
       "      <td>0x500A746c9a44f68Fe6AA86a92e7B3AF4F322Ae66</td>\n",
       "      <td>whale</td>\n",
       "      <td>1.417869e-01</td>\n",
       "      <td>7.094466e-08</td>\n",
       "    </tr>\n",
       "    <tr>\n",
       "      <th>2</th>\n",
       "      <td>14477431</td>\n",
       "      <td>0xe04f7d00aeceb6e70eca3c2d7315af64490dd5ca3098...</td>\n",
       "      <td>undefined</td>\n",
       "      <td>0x224e5B711C192b53C42a27ded78bBC6f5d7d1Bd0</td>\n",
       "      <td>normal</td>\n",
       "      <td>0xCBD6832Ebc203e49E2B771897067fce3c58575ac</td>\n",
       "      <td>whale</td>\n",
       "      <td>1.324540e-01</td>\n",
       "      <td>6.358866e-08</td>\n",
       "    </tr>\n",
       "    <tr>\n",
       "      <th>3</th>\n",
       "      <td>14477431</td>\n",
       "      <td>0x58be96231ab76ca60bad804c2069fb8a98c3a41e2e20...</td>\n",
       "      <td>undefined</td>\n",
       "      <td>0xddfAbCdc4D8FfC6d5beaf154f18B778f892A0740</td>\n",
       "      <td>whale</td>\n",
       "      <td>0x829a55cFD0DE6607BcFEaF6eD8bFd69BF2a93394</td>\n",
       "      <td>normal</td>\n",
       "      <td>1.033580e-01</td>\n",
       "      <td>5.623708e-08</td>\n",
       "    </tr>\n",
       "    <tr>\n",
       "      <th>4</th>\n",
       "      <td>14477431</td>\n",
       "      <td>0x1b7e6d65256479c95039e3e9d6428d4127182a73bdb2...</td>\n",
       "      <td>undefined</td>\n",
       "      <td>0xddfAbCdc4D8FfC6d5beaf154f18B778f892A0740</td>\n",
       "      <td>whale</td>\n",
       "      <td>0x9E6b85A906596fee9d7eA7E3Ce94Eb07707AEcbE</td>\n",
       "      <td>normal</td>\n",
       "      <td>9.164425e-02</td>\n",
       "      <td>5.623708e-08</td>\n",
       "    </tr>\n",
       "    <tr>\n",
       "      <th>...</th>\n",
       "      <td>...</td>\n",
       "      <td>...</td>\n",
       "      <td>...</td>\n",
       "      <td>...</td>\n",
       "      <td>...</td>\n",
       "      <td>...</td>\n",
       "      <td>...</td>\n",
       "      <td>...</td>\n",
       "      <td>...</td>\n",
       "    </tr>\n",
       "    <tr>\n",
       "      <th>2239</th>\n",
       "      <td>14477481</td>\n",
       "      <td>0x22de51d9147f2b64e1f10c24c732ddcf548fab4262d5...</td>\n",
       "      <td>undefined</td>\n",
       "      <td>0xeB2629a2734e272Bcc07BDA959863f316F4bD4Cf</td>\n",
       "      <td>whale</td>\n",
       "      <td>0xB9377D4b12883b4D15f200eF6eb606AE5797b4c3</td>\n",
       "      <td>normal</td>\n",
       "      <td>1.482622e-01</td>\n",
       "      <td>5.890841e-08</td>\n",
       "    </tr>\n",
       "    <tr>\n",
       "      <th>2240</th>\n",
       "      <td>14477481</td>\n",
       "      <td>0xc71efd04bdc486d985ef25169cf2bbcc6d376c15c6d2...</td>\n",
       "      <td>&lt;Function transfer(address,uint256)&gt;</td>\n",
       "      <td>0xDFd5293D8e347dFe59E90eFd55b2956a1343963d</td>\n",
       "      <td>whale</td>\n",
       "      <td>0x95aD61b0a150d79219dCF64E1E6Cc01f0B64C4cE</td>\n",
       "      <td>normal</td>\n",
       "      <td>0.000000e+00</td>\n",
       "      <td>5.890841e-08</td>\n",
       "    </tr>\n",
       "    <tr>\n",
       "      <th>2241</th>\n",
       "      <td>14477481</td>\n",
       "      <td>0xf5ca7fc59e9eb42b4fa7168bf066f4c65e828968f429...</td>\n",
       "      <td>undefined</td>\n",
       "      <td>0x3cD751E6b0078Be393132286c442345e5DC49699</td>\n",
       "      <td>whale</td>\n",
       "      <td>0x6cfAbDACA0f30c2433A02018ADC2ca37dD827548</td>\n",
       "      <td>normal</td>\n",
       "      <td>1.011365e-02</td>\n",
       "      <td>5.890841e-08</td>\n",
       "    </tr>\n",
       "    <tr>\n",
       "      <th>2242</th>\n",
       "      <td>14477481</td>\n",
       "      <td>0x1eef2efb3e2d1584470dea95c4a8e958daa61ff37295...</td>\n",
       "      <td>&lt;Function mint(uint256,tuple)&gt;</td>\n",
       "      <td>0x5C4ccf80031d3B0bC7256990aC08804A907b3060</td>\n",
       "      <td>normal</td>\n",
       "      <td>0xe182AF6Be923b29f6A53855d5571fDD96B21D93A</td>\n",
       "      <td>whale</td>\n",
       "      <td>6.900000e-01</td>\n",
       "      <td>5.840841e-08</td>\n",
       "    </tr>\n",
       "    <tr>\n",
       "      <th>2243</th>\n",
       "      <td>14477481</td>\n",
       "      <td>0x8b7a17cc134d141cf71544e2116330e23e61f4cf1ce6...</td>\n",
       "      <td>undefined</td>\n",
       "      <td>0xE11970f2F3dE9d637Fb786f2d869F8FeA44195AC</td>\n",
       "      <td>whale</td>\n",
       "      <td>0xA0b86991c6218b36c1d19D4a2e9Eb0cE3606eB48</td>\n",
       "      <td>normal</td>\n",
       "      <td>0.000000e+00</td>\n",
       "      <td>5.790841e-08</td>\n",
       "    </tr>\n",
       "  </tbody>\n",
       "</table>\n",
       "<p>2244 rows × 9 columns</p>\n",
       "</div>"
      ],
      "text/plain": [
       "     block_number                                            tx_hash  \\\n",
       "0        14477431  0xf8ac3f1d1ba7837ac01fd69959a84e14b5520389ce21...   \n",
       "1        14477431  0x8d76216a4c178d1bc880bf9ff77d46d4e9b4efa63ed8...   \n",
       "2        14477431  0xe04f7d00aeceb6e70eca3c2d7315af64490dd5ca3098...   \n",
       "3        14477431  0x58be96231ab76ca60bad804c2069fb8a98c3a41e2e20...   \n",
       "4        14477431  0x1b7e6d65256479c95039e3e9d6428d4127182a73bdb2...   \n",
       "...           ...                                                ...   \n",
       "2239     14477481  0x22de51d9147f2b64e1f10c24c732ddcf548fab4262d5...   \n",
       "2240     14477481  0xc71efd04bdc486d985ef25169cf2bbcc6d376c15c6d2...   \n",
       "2241     14477481  0xf5ca7fc59e9eb42b4fa7168bf066f4c65e828968f429...   \n",
       "2242     14477481  0x1eef2efb3e2d1584470dea95c4a8e958daa61ff37295...   \n",
       "2243     14477481  0x8b7a17cc134d141cf71544e2116330e23e61f4cf1ce6...   \n",
       "\n",
       "                                    tx_obj  \\\n",
       "0                                undefined   \n",
       "1                                undefined   \n",
       "2                                undefined   \n",
       "3                                undefined   \n",
       "4                                undefined   \n",
       "...                                    ...   \n",
       "2239                             undefined   \n",
       "2240  <Function transfer(address,uint256)>   \n",
       "2241                             undefined   \n",
       "2242        <Function mint(uint256,tuple)>   \n",
       "2243                             undefined   \n",
       "\n",
       "                                          source source_label  \\\n",
       "0     0xB10A699f0e9D27273D6D7BdbB7FD44346C7D7076       normal   \n",
       "1     0xE6d45E57f4740a627c68BB41359567680eFc79df       normal   \n",
       "2     0x224e5B711C192b53C42a27ded78bBC6f5d7d1Bd0       normal   \n",
       "3     0xddfAbCdc4D8FfC6d5beaf154f18B778f892A0740        whale   \n",
       "4     0xddfAbCdc4D8FfC6d5beaf154f18B778f892A0740        whale   \n",
       "...                                          ...          ...   \n",
       "2239  0xeB2629a2734e272Bcc07BDA959863f316F4bD4Cf        whale   \n",
       "2240  0xDFd5293D8e347dFe59E90eFd55b2956a1343963d        whale   \n",
       "2241  0x3cD751E6b0078Be393132286c442345e5DC49699        whale   \n",
       "2242  0x5C4ccf80031d3B0bC7256990aC08804A907b3060       normal   \n",
       "2243  0xE11970f2F3dE9d637Fb786f2d869F8FeA44195AC        whale   \n",
       "\n",
       "                                          target target_label        amount  \\\n",
       "0     0x0000000000007F150Bd6f54c40A34d7C3d5e9f56        whale  3.290000e-16   \n",
       "1     0x500A746c9a44f68Fe6AA86a92e7B3AF4F322Ae66        whale  1.417869e-01   \n",
       "2     0xCBD6832Ebc203e49E2B771897067fce3c58575ac        whale  1.324540e-01   \n",
       "3     0x829a55cFD0DE6607BcFEaF6eD8bFd69BF2a93394       normal  1.033580e-01   \n",
       "4     0x9E6b85A906596fee9d7eA7E3Ce94Eb07707AEcbE       normal  9.164425e-02   \n",
       "...                                          ...          ...           ...   \n",
       "2239  0xB9377D4b12883b4D15f200eF6eb606AE5797b4c3       normal  1.482622e-01   \n",
       "2240  0x95aD61b0a150d79219dCF64E1E6Cc01f0B64C4cE       normal  0.000000e+00   \n",
       "2241  0x6cfAbDACA0f30c2433A02018ADC2ca37dD827548       normal  1.011365e-02   \n",
       "2242  0xe182AF6Be923b29f6A53855d5571fDD96B21D93A        whale  6.900000e-01   \n",
       "2243  0xA0b86991c6218b36c1d19D4a2e9Eb0cE3606eB48       normal  0.000000e+00   \n",
       "\n",
       "           gasfees  \n",
       "0     4.723708e-08  \n",
       "1     7.094466e-08  \n",
       "2     6.358866e-08  \n",
       "3     5.623708e-08  \n",
       "4     5.623708e-08  \n",
       "...            ...  \n",
       "2239  5.890841e-08  \n",
       "2240  5.890841e-08  \n",
       "2241  5.890841e-08  \n",
       "2242  5.840841e-08  \n",
       "2243  5.790841e-08  \n",
       "\n",
       "[2244 rows x 9 columns]"
      ]
     },
     "execution_count": 74,
     "metadata": {},
     "output_type": "execute_result"
    }
   ],
   "source": [
    "for block_num in block_range:\n",
    "    txs_in_block = w3.eth.getBlock(block_num)['transactions']\n",
    "    print(f'Block {block_num} has {len(txs_in_block)} transactions / last data length: {len(data)}')\n",
    "    for i in txs_in_block:\n",
    "        tx_hash = i.hex()\n",
    "        tx = w3.eth.get_transaction(tx_hash)\n",
    "        try:\n",
    "            from_balance = w3.eth.getBalance(tx['from'])/10**18\n",
    "            to_balance = w3.eth.getBalance(tx['to'])/10**18\n",
    "        except TypeError:\n",
    "            print(f'TypeError occurred at tx {tx_hash}')\n",
    "            \n",
    "        if from_balance >= whale_threshold or to_balance >= whale_threshold:\n",
    "            \n",
    "            amount = 0 if tx['value'] == 0 or tx['value'] == 1 else tx['value']/10**18\n",
    "            source_label = 'whale' if from_balance >= whale_threshold else 'normal'\n",
    "            target_label = 'whale' if to_balance >= whale_threshold else 'normal'\n",
    "            obj = get_tx_obj(tx, etherscan_apikey)\n",
    "            try:\n",
    "                data = data.append({'block_number': block_num,\n",
    "                                    'tx_hash': tx_hash,\n",
    "                                    'tx_obj': obj,\n",
    "                                    'source': tx['from'],\n",
    "                                    'source_label': source_label,\n",
    "                                    'target': tx['to'],\n",
    "                                    'target_label': target_label,\n",
    "                                    'amount': amount,\n",
    "                                    'gasfees': tx['gasPrice']/(10**18),\n",
    "                                    }, ignore_index=True)\n",
    "            except KeyError:\n",
    "                print(f'KeyError occurred at tx {tx_hash}')\n",
    "data"
   ]
  },
  {
   "cell_type": "code",
   "execution_count": 75,
   "id": "2797985c-8da1-4c1c-8f45-0c8446e08fad",
   "metadata": {},
   "outputs": [],
   "source": [
    "# data.to_csv('whale_tx_220329.csv', index=False)"
   ]
  },
  {
   "cell_type": "markdown",
   "id": "b03065e0-d776-4c03-a18e-e411485cb801",
   "metadata": {},
   "source": [
    "#### DB 연결"
   ]
  },
  {
   "cell_type": "code",
   "execution_count": 26,
   "id": "4e80a6ee-010c-4622-b24b-c2976e55a07e",
   "metadata": {},
   "outputs": [],
   "source": [
    "conn = pg.connect(database='dbname',user='username', password='password', host='192.168.xx.xx', port='xxxx')\n",
    "conn.autocommit = True\n",
    "curs = conn.cursor()"
   ]
  },
  {
   "cell_type": "markdown",
   "id": "a233cd91-c12a-4224-ad62-e6dde44c934f",
   "metadata": {},
   "source": [
    "#### 경로 설정"
   ]
  },
  {
   "cell_type": "code",
   "execution_count": 27,
   "id": "1052d88a-ec85-4d17-ad23-47ffe395eb4d",
   "metadata": {},
   "outputs": [],
   "source": [
    "sql = \"CREATE graph eth_test2\"\n",
    "curs.execute(sql)"
   ]
  },
  {
   "cell_type": "code",
   "execution_count": 28,
   "id": "1723c004-2a8d-4142-a37f-6997529321f6",
   "metadata": {},
   "outputs": [],
   "source": [
    "sql=\"SET graph_path = eth_test2\"\n",
    "curs.execute(sql)"
   ]
  },
  {
   "cell_type": "markdown",
   "id": "d1ac2250-fba8-4d64-b7ed-92c538e5077e",
   "metadata": {},
   "source": [
    "#### 레이블 생성"
   ]
  },
  {
   "cell_type": "code",
   "execution_count": 29,
   "id": "9d0e1cf8-3f27-46ff-927c-0e757e5e0e58",
   "metadata": {},
   "outputs": [],
   "source": [
    "node_labels = ['block', 'transaction', 'wallet']"
   ]
  },
  {
   "cell_type": "code",
   "execution_count": 30,
   "id": "1441251d-9da2-498b-a930-475f95e18586",
   "metadata": {},
   "outputs": [],
   "source": [
    "for label in node_labels:\n",
    "    query = f\"CREATE vlabel {label}\"\n",
    "    curs.execute(query)"
   ]
  },
  {
   "cell_type": "code",
   "execution_count": 31,
   "id": "3aa4abca-a126-4842-9f62-ddc29a00f3be",
   "metadata": {},
   "outputs": [],
   "source": [
    "edge_labels = ['Connected_with', 'Occur', 'Send', 'Receive']"
   ]
  },
  {
   "cell_type": "code",
   "execution_count": 32,
   "id": "5c6b88cd-5bcd-447d-9438-38fd11a6f360",
   "metadata": {},
   "outputs": [],
   "source": [
    "for label in edge_labels:\n",
    "    query = f\"CREATE elabel {label}\"\n",
    "    curs.execute(query)"
   ]
  },
  {
   "cell_type": "markdown",
   "id": "0a40a5e9-9b35-4477-9d75-88ef9f4788e5",
   "metadata": {},
   "source": [
    "#### 블록 노드 생성"
   ]
  },
  {
   "cell_type": "code",
   "execution_count": 33,
   "id": "ac7f6af6-229e-48a7-b1f5-f7a22c6c4691",
   "metadata": {},
   "outputs": [],
   "source": [
    "for i in range(len(block_data)):\n",
    "    query = \"MERGE (n:block {block_number: %d })\"%(block_data.iloc[i]['block_from'])\n",
    "    curs.execute(query)"
   ]
  },
  {
   "cell_type": "markdown",
   "id": "b117bd41-8772-4870-b6f0-33b2b864226f",
   "metadata": {},
   "source": [
    "#### 트랜잭션, 지갑 노드 생성"
   ]
  },
  {
   "cell_type": "code",
   "execution_count": 34,
   "id": "fd7038b1-a0ca-46fe-a5a7-16e854b546f5",
   "metadata": {},
   "outputs": [],
   "source": [
    "for i in range(len(data)):\n",
    "    query1 = \"MERGE (a:transaction {{tx_hash: '{}', amount: {} }})\".format(data.iloc[i]['tx_hash'], data.iloc[i]['amount'])\n",
    "    curs.execute(query1)\n",
    "    query2 = \"MERGE (a:wallet {{wallet_address: '{}', wallet_label: '{}' }})\".format(data.iloc[i]['source'], data.iloc[i]['source_label'])\n",
    "    curs.execute(query2)\n",
    "    query3 = \"MERGE (a:wallet {{wallet_address: '{}', wallet_label: '{}' }})\".format(data.iloc[i]['target'], data.iloc[i]['target_label'])\n",
    "    curs.execute(query3)"
   ]
  },
  {
   "cell_type": "markdown",
   "id": "aa77c055-ccbd-44d6-bba8-85ad1cb3c26a",
   "metadata": {},
   "source": [
    "#### 블록-블록 엣지 생성"
   ]
  },
  {
   "cell_type": "code",
   "execution_count": 35,
   "id": "bedaf4d7-cffe-4c20-8e90-c18c02afd6db",
   "metadata": {},
   "outputs": [],
   "source": [
    "for i in range(len(block_data)):\n",
    "    query = \"MATCH (a:block {{block_number: {} }}) \\\n",
    "             MATCH (b:block {{block_number: {} }}) \\\n",
    "             MERGE (a)-[r:Connected_with]->(b)\".format(\\\n",
    "             block_data.iloc[i]['block_from'], block_data.iloc[i]['block_to'])\n",
    "    curs.execute(query)"
   ]
  },
  {
   "cell_type": "markdown",
   "id": "cf2a98ab-0131-4d17-8d0c-35750cfe3669",
   "metadata": {},
   "source": [
    "#### 블록-트랜잭션 엣지 생성"
   ]
  },
  {
   "cell_type": "code",
   "execution_count": 36,
   "id": "ca546ada-fbaf-4905-b8b1-f3241dcd3938",
   "metadata": {},
   "outputs": [],
   "source": [
    "for i in range(len(data)):\n",
    "    query = \"MATCH (a:block {{block_number: {} }}) \\\n",
    "             MATCH (b:transaction {{tx_hash: '{}' }}) \\\n",
    "             MERGE (a)-[r:Occur]->(b)\".format(\\\n",
    "             data.iloc[i]['block_number'], data.iloc[i]['tx_hash'])\n",
    "    curs.execute(query)"
   ]
  },
  {
   "cell_type": "markdown",
   "id": "f843d874-0b2b-4fcc-a104-de10aa594d7c",
   "metadata": {},
   "source": [
    "#### 트랜잭션-지갑 엣지 생성"
   ]
  },
  {
   "cell_type": "code",
   "execution_count": 37,
   "id": "7b2025dd-55be-41b9-9676-1684d35cbb1e",
   "metadata": {},
   "outputs": [],
   "source": [
    "for i in range(len(data)):\n",
    "    query = \"MATCH (a:wallet {{wallet_address: '{}' }}) \\\n",
    "             MATCH (b:transaction {{tx_hash: '{}' }}) \\\n",
    "             MERGE (a)-[r:Send]->(b)\".format(\\\n",
    "             data.iloc[i]['source'], data.iloc[i]['tx_hash'])\n",
    "    curs.execute(query)"
   ]
  },
  {
   "cell_type": "code",
   "execution_count": 38,
   "id": "da949288-a3cc-49c0-acab-17c712814a2b",
   "metadata": {},
   "outputs": [],
   "source": [
    "for i in range(len(data)):\n",
    "    query =  \"MATCH (a:transaction {{tx_hash: '{}' }}) \\\n",
    "              MATCH (b:wallet {{wallet_address: '{}' }}) \\\n",
    "              MERGE (a)-[r:Receive]->(b)\".format(\\\n",
    "              data.iloc[i]['tx_hash'], data.iloc[i]['target'])\n",
    "    curs.execute(query)"
   ]
  },
  {
   "cell_type": "code",
   "execution_count": null,
   "id": "c4d50a05-03d1-4354-987d-06c91d7be7b9",
   "metadata": {},
   "outputs": [],
   "source": []
  }
 ],
 "metadata": {
  "kernelspec": {
   "display_name": "Python 3 (ipykernel)",
   "language": "python",
   "name": "python3"
  },
  "language_info": {
   "codemirror_mode": {
    "name": "ipython",
    "version": 3
   },
   "file_extension": ".py",
   "mimetype": "text/x-python",
   "name": "python",
   "nbconvert_exporter": "python",
   "pygments_lexer": "ipython3",
   "version": "3.9.7"
  }
 },
 "nbformat": 4,
 "nbformat_minor": 5
}
