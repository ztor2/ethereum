{
 "cells": [
  {
   "cell_type": "code",
   "execution_count": 1,
   "id": "8576b471-1905-427e-b63c-a54741849f86",
   "metadata": {},
   "outputs": [],
   "source": [
    "from web3 import Web3\n",
    "import pandas as pd\n",
    "import json\n",
    "import requests\n",
    "from collections import OrderedDict"
   ]
  },
  {
   "cell_type": "markdown",
   "id": "0d113ca9-5de6-48ca-99ac-693a5c66a635",
   "metadata": {},
   "source": [
    "#### API 세팅"
   ]
  },
  {
   "cell_type": "code",
   "execution_count": 2,
   "id": "0bb02928-61c0-4267-84fc-c4785073238f",
   "metadata": {},
   "outputs": [],
   "source": [
    "etherscan_apikey = 'ETHERSCANKEY'\n",
    "infura_endpoints = 'https://mainnet.infura.io/v3/INFURAKEY'"
   ]
  },
  {
   "cell_type": "code",
   "execution_count": 3,
   "id": "72958cc1-ca0d-49ce-813e-ca9125fd2fb4",
   "metadata": {},
   "outputs": [
    {
     "data": {
      "text/plain": [
       "True"
      ]
     },
     "execution_count": 3,
     "metadata": {},
     "output_type": "execute_result"
    }
   ],
   "source": [
    "w3 = Web3(Web3.HTTPProvider(infura_endpoints))\n",
    "w3.isConnected()"
   ]
  },
  {
   "cell_type": "markdown",
   "id": "8457c451-8abe-48ca-84aa-df57477cb13f",
   "metadata": {},
   "source": [
    "#### 트랜잭션 및 스마트 컨트랙트 정보 조회"
   ]
  },
  {
   "cell_type": "code",
   "execution_count": 164,
   "id": "c8ad78f0-7a5c-45fd-be3b-a1ac264d20a6",
   "metadata": {},
   "outputs": [],
   "source": [
    "tx_hash = '0xe27739c11c9b107887763b17938ceca720e9dbca151c159a149bc3ffb321a5cc'"
   ]
  },
  {
   "cell_type": "code",
   "execution_count": 165,
   "id": "51ea3e4f-9d74-447c-9bd1-d9b087e7f680",
   "metadata": {},
   "outputs": [],
   "source": [
    "tx = w3.eth.get_transaction(tx_hash)"
   ]
  },
  {
   "cell_type": "code",
   "execution_count": 166,
   "id": "fa5941b0-c6fa-43c6-99a8-68d0b530739c",
   "metadata": {},
   "outputs": [
    {
     "data": {
      "text/plain": [
       "'0x76194f083cCdE0A111330F0f67252751A45f8E52'"
      ]
     },
     "execution_count": 166,
     "metadata": {},
     "output_type": "execute_result"
    }
   ],
   "source": [
    "tx['to']"
   ]
  },
  {
   "cell_type": "code",
   "execution_count": 167,
   "id": "c8f736ca-08f1-443e-8efb-8b2071f1b4a1",
   "metadata": {},
   "outputs": [],
   "source": [
    "abi_endpoint = f\"https://api.etherscan.io/api?module=contract&action=getabi&address={tx['to']}&apikey={etherscan_apikey}\"\n",
    "abi = json.loads(requests.get(abi_endpoint).text)"
   ]
  },
  {
   "cell_type": "code",
   "execution_count": 168,
   "id": "d4468733-984f-485c-8c42-072705f7522c",
   "metadata": {},
   "outputs": [],
   "source": [
    "contract = w3.eth.contract(address=tx[\"to\"], abi=abi[\"result\"])"
   ]
  },
  {
   "cell_type": "code",
   "execution_count": 169,
   "id": "cbc33d62-9ba9-4ce1-a070-a4e39e6d5382",
   "metadata": {},
   "outputs": [],
   "source": [
    "funcs = [i for i in contract.functions]"
   ]
  },
  {
   "cell_type": "code",
   "execution_count": 170,
   "id": "4087fb16-f2a9-42c4-9340-eb67d8c20bc7",
   "metadata": {},
   "outputs": [
    {
     "data": {
      "text/html": [
       "<div>\n",
       "<style scoped>\n",
       "    .dataframe tbody tr th:only-of-type {\n",
       "        vertical-align: middle;\n",
       "    }\n",
       "\n",
       "    .dataframe tbody tr th {\n",
       "        vertical-align: top;\n",
       "    }\n",
       "\n",
       "    .dataframe thead th {\n",
       "        text-align: right;\n",
       "    }\n",
       "</style>\n",
       "<table border=\"1\" class=\"dataframe\">\n",
       "  <thead>\n",
       "    <tr style=\"text-align: right;\">\n",
       "      <th></th>\n",
       "      <th>ABI info.</th>\n",
       "    </tr>\n",
       "  </thead>\n",
       "  <tbody>\n",
       "    <tr>\n",
       "      <th>0</th>\n",
       "      <td>allowance</td>\n",
       "    </tr>\n",
       "    <tr>\n",
       "      <th>1</th>\n",
       "      <td>approve</td>\n",
       "    </tr>\n",
       "    <tr>\n",
       "      <th>2</th>\n",
       "      <td>balanceOf</td>\n",
       "    </tr>\n",
       "    <tr>\n",
       "      <th>3</th>\n",
       "      <td>decimals</td>\n",
       "    </tr>\n",
       "    <tr>\n",
       "      <th>4</th>\n",
       "      <td>decreaseAllowance</td>\n",
       "    </tr>\n",
       "    <tr>\n",
       "      <th>5</th>\n",
       "      <td>increaseAllowance</td>\n",
       "    </tr>\n",
       "    <tr>\n",
       "      <th>6</th>\n",
       "      <td>name</td>\n",
       "    </tr>\n",
       "    <tr>\n",
       "      <th>7</th>\n",
       "      <td>symbol</td>\n",
       "    </tr>\n",
       "    <tr>\n",
       "      <th>8</th>\n",
       "      <td>totalSupply</td>\n",
       "    </tr>\n",
       "    <tr>\n",
       "      <th>9</th>\n",
       "      <td>transfer</td>\n",
       "    </tr>\n",
       "    <tr>\n",
       "      <th>10</th>\n",
       "      <td>transferFrom</td>\n",
       "    </tr>\n",
       "  </tbody>\n",
       "</table>\n",
       "</div>"
      ],
      "text/plain": [
       "            ABI info.\n",
       "0           allowance\n",
       "1             approve\n",
       "2           balanceOf\n",
       "3            decimals\n",
       "4   decreaseAllowance\n",
       "5   increaseAllowance\n",
       "6                name\n",
       "7              symbol\n",
       "8         totalSupply\n",
       "9            transfer\n",
       "10       transferFrom"
      ]
     },
     "execution_count": 170,
     "metadata": {},
     "output_type": "execute_result"
    }
   ],
   "source": [
    "pd.DataFrame([i for i in contract.functions], columns=['ABI info.'])"
   ]
  },
  {
   "cell_type": "code",
   "execution_count": 173,
   "id": "25e51784-867d-4a7f-a118-d9608ae56d1e",
   "metadata": {},
   "outputs": [
    {
     "data": {
      "text/plain": [
       "'0xaDAa77321735238C2303881932E824Ae8da296AD'"
      ]
     },
     "execution_count": 173,
     "metadata": {},
     "output_type": "execute_result"
    }
   ],
   "source": [
    "func_params['recipient']"
   ]
  },
  {
   "cell_type": "code",
   "execution_count": 175,
   "id": "ba0a8842-1f7a-4583-9c9f-a1d256966189",
   "metadata": {},
   "outputs": [
    {
     "name": "stdout",
     "output_type": "stream",
     "text": [
      "Source:  0x4149A8A3d4Cf0dF1B01083AC39F7943cE8A429e6\n",
      "Target:  0xaDAa77321735238C2303881932E824Ae8da296AD\n",
      "Token Address:  0x76194f083cCdE0A111330F0f67252751A45f8E52\n",
      "Token Name:  IPRToken\n",
      "Token Symbol:  IPR\n",
      "Decimals:  18\n",
      "Amount: 50000.0 IPR\n"
     ]
    }
   ],
   "source": [
    "name=contract.functions.name().call()\n",
    "symbol=contract.functions.symbol().call()\n",
    "dec = contract.functions.decimals().call(); dec_powered=10**dec\n",
    "func_obj, func_params = contract.decode_function_input(tx[\"input\"])\n",
    "amount = func_params['amount']/dec_powered\n",
    "# amount = func_params['_value']/dec_powered\n",
    "print('Source: ', tx['from'])\n",
    "print('Target: ', func_params['recipient'])\n",
    "# print('Target: ', func_params['_to'])\n",
    "print('Token Address: ', tx['to'])\n",
    "print('Token Name: ', name)\n",
    "print('Token Symbol: ', symbol)\n",
    "print('Decimals: ', dec)\n",
    "# print('Object: ', func_obj)\n",
    "print(f'Amount: {amount} {symbol}')"
   ]
  },
  {
   "cell_type": "code",
   "execution_count": 176,
   "id": "5f6b9bd3-cc64-4823-aab0-a3b8999735cd",
   "metadata": {},
   "outputs": [
    {
     "data": {
      "text/html": [
       "<div>\n",
       "<style scoped>\n",
       "    .dataframe tbody tr th:only-of-type {\n",
       "        vertical-align: middle;\n",
       "    }\n",
       "\n",
       "    .dataframe tbody tr th {\n",
       "        vertical-align: top;\n",
       "    }\n",
       "\n",
       "    .dataframe thead th {\n",
       "        text-align: right;\n",
       "    }\n",
       "</style>\n",
       "<table border=\"1\" class=\"dataframe\">\n",
       "  <thead>\n",
       "    <tr style=\"text-align: right;\">\n",
       "      <th></th>\n",
       "      <th>key</th>\n",
       "      <th>value</th>\n",
       "    </tr>\n",
       "  </thead>\n",
       "  <tbody>\n",
       "    <tr>\n",
       "      <th>0</th>\n",
       "      <td>Source</td>\n",
       "      <td>0x4149A8A3d4Cf0dF1B01083AC39F7943cE8A429e6</td>\n",
       "    </tr>\n",
       "    <tr>\n",
       "      <th>1</th>\n",
       "      <td>Target</td>\n",
       "      <td>0xaDAa77321735238C2303881932E824Ae8da296AD</td>\n",
       "    </tr>\n",
       "    <tr>\n",
       "      <th>2</th>\n",
       "      <td>Token Address</td>\n",
       "      <td>0x76194f083cCdE0A111330F0f67252751A45f8E52</td>\n",
       "    </tr>\n",
       "    <tr>\n",
       "      <th>3</th>\n",
       "      <td>Token Name</td>\n",
       "      <td>IPRToken</td>\n",
       "    </tr>\n",
       "    <tr>\n",
       "      <th>4</th>\n",
       "      <td>Token Symbol</td>\n",
       "      <td>IPR</td>\n",
       "    </tr>\n",
       "    <tr>\n",
       "      <th>5</th>\n",
       "      <td>Decimals</td>\n",
       "      <td>18</td>\n",
       "    </tr>\n",
       "    <tr>\n",
       "      <th>6</th>\n",
       "      <td>Amount</td>\n",
       "      <td>50000.0</td>\n",
       "    </tr>\n",
       "  </tbody>\n",
       "</table>\n",
       "</div>"
      ],
      "text/plain": [
       "             key                                       value\n",
       "0         Source  0x4149A8A3d4Cf0dF1B01083AC39F7943cE8A429e6\n",
       "1         Target  0xaDAa77321735238C2303881932E824Ae8da296AD\n",
       "2  Token Address  0x76194f083cCdE0A111330F0f67252751A45f8E52\n",
       "3     Token Name                                    IPRToken\n",
       "4   Token Symbol                                         IPR\n",
       "5       Decimals                                          18\n",
       "6         Amount                                     50000.0"
      ]
     },
     "execution_count": 176,
     "metadata": {},
     "output_type": "execute_result"
    }
   ],
   "source": [
    "data = OrderedDict()\n",
    "data['Source'] = tx['from']\n",
    "data['Target'] = func_params['recipient']\n",
    "data['Token Address'] = tx['to']\n",
    "data['Token Name'] = name\n",
    "data['Token Symbol'] = symbol\n",
    "data['Decimals'] = dec\n",
    "data['Amount'] = amount\n",
    "pd.DataFrame(data.items(), columns=['key', 'value'])"
   ]
  },
  {
   "cell_type": "code",
   "execution_count": 179,
   "id": "aaec15f9-3a1b-406e-bfe6-e2de9c07159d",
   "metadata": {},
   "outputs": [
    {
     "name": "stdout",
     "output_type": "stream",
     "text": [
      "Tokens with the contract : 132670.0 IPR\n",
      "Total Supply: 3000000000.0 IPR\n"
     ]
    }
   ],
   "source": [
    "balance=contract.functions.balanceOf(tx['to']).call()/(10**dec)\n",
    "supply=contract.functions.totalSupply().call()/(10**dec)\n",
    "print(f'Tokens with the contract : {balance} {symbol}')\n",
    "print(f'Total Supply: {supply} {symbol}')"
   ]
  },
  {
   "cell_type": "code",
   "execution_count": null,
   "id": "ab4ae93f-bd73-4e30-948a-e12d8557cc1f",
   "metadata": {},
   "outputs": [],
   "source": []
  }
 ],
 "metadata": {
  "kernelspec": {
   "display_name": "Python 3 (ipykernel)",
   "language": "python",
   "name": "python3"
  },
  "language_info": {
   "codemirror_mode": {
    "name": "ipython",
    "version": 3
   },
   "file_extension": ".py",
   "mimetype": "text/x-python",
   "name": "python",
   "nbconvert_exporter": "python",
   "pygments_lexer": "ipython3",
   "version": "3.9.7"
  }
 },
 "nbformat": 4,
 "nbformat_minor": 5
}
